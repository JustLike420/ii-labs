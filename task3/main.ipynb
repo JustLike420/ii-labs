{
 "cells": [
  {
   "cell_type": "code",
   "id": "initial_id",
   "metadata": {
    "collapsed": true,
    "ExecuteTime": {
     "end_time": "2024-11-12T13:39:42.604889Z",
     "start_time": "2024-11-12T13:39:39.526424Z"
    }
   },
   "source": [
    "import matplotlib.colors as mcolors\n",
    "import matplotlib.pyplot as plt\n",
    "import numpy as np\n",
    "from matplotlib.animation import FuncAnimation, PillowWriter\n",
    "\n",
    "\n",
    "class Map:\n",
    "    def __init__(self, n):\n",
    "        self.n = n\n",
    "        self.map = self.initialize_grid()\n",
    "\n",
    "    def initialize_grid(self):\n",
    "        return np.random.choice(['B', 'R', 'E'], size=(self.n, self.n), p=[0.45, 0.45, 0.10])\n",
    "\n",
    "    def is_happy(self, x, y):\n",
    "        color = self.map[x, y]\n",
    "        if color == 'E':\n",
    "            return True\n",
    "\n",
    "        neighbors = [(i, j) for i in range(max(0, x - 1), min(self.n, x + 2))\n",
    "                     for j in range(max(0, y - 1), min(self.n, y + 2))\n",
    "                     if (i, j) != (x, y)]\n",
    "\n",
    "        same_color_count = sum(1 for i, j in neighbors if self.map[i, j] == color)\n",
    "\n",
    "        return same_color_count >= 2\n",
    "\n",
    "    def move_unhappy(self):\n",
    "        unhappy_cells = [(x, y) for x in range(self.n) for y in range(self.n) if not self.is_happy(x, y)]\n",
    "\n",
    "        if unhappy_cells:\n",
    "            x, y = unhappy_cells[np.random.choice(len(unhappy_cells))]\n",
    "\n",
    "            empty_cells = np.argwhere(self.map == 'E')\n",
    "            if empty_cells.size > 0:\n",
    "                new_x, new_y = empty_cells[np.random.choice(empty_cells.shape[0])]\n",
    "\n",
    "                self.map[new_x, new_y] = self.map[x, y]\n",
    "                self.map[x, y] = 'E'\n",
    "\n",
    "\n",
    "class Shelling:\n",
    "    def __init__(self, grid_size, steps):\n",
    "        self.map = Map(grid_size)\n",
    "        self.fig, self.ax = plt.subplots()\n",
    "        self.ani = FuncAnimation(self.fig, self.update, frames=steps)\n",
    "        self.colors = ['white', 'blue', 'red']\n",
    "\n",
    "    def update(self, frame):\n",
    "        previous_grid = self.map.map.copy()\n",
    "        self.map.move_unhappy()\n",
    "\n",
    "        self.ax.clear()\n",
    "\n",
    "        cmap = mcolors.ListedColormap(self.colors)\n",
    "        grid_numeric = np.where(self.map.map == 'B', 1, np.where(self.map.map == 'R', 2, 0))\n",
    "        self.ax.imshow(grid_numeric, cmap=cmap)\n",
    "\n",
    "        self.ax.set_title(f\"Шаг {frame + 1}\")\n",
    "        self.ax.axis('off')\n",
    "\n",
    "        if np.array_equal(previous_grid, self.map.map):\n",
    "            self.ani.pause()\n",
    "\n",
    "    def run(self):\n",
    "        self.ani.save('sheltering_model.gif', writer=PillowWriter(fps=30))\n",
    "        plt.show()\n",
    "\n",
    "\n",
    "grid_size = 10\n",
    "steps = grid_size * 5\n",
    "\n",
    "sim = Shelling(grid_size, steps)\n",
    "sim.run()\n"
   ],
   "outputs": [
    {
     "data": {
      "text/plain": [
       "<Figure size 640x480 with 1 Axes>"
      ],
      "image/png": "[encoded data removed]"
     },
     "metadata": {},
     "output_type": "display_data"
    }
   ],
   "execution_count": 2
  },
  {
   "metadata": {},
   "cell_type": "code",
   "outputs": [],
   "execution_count": null,
   "source": "",
   "id": "7c43b4ab2a966498"
  }
 ],
 "metadata": {
  "kernelspec": {
   "display_name": "Python 3",
   "language": "python",
   "name": "python3"
  },
  "language_info": {
   "codemirror_mode": {
    "name": "ipython",
    "version": 2
   },
   "file_extension": ".py",
   "mimetype": "text/x-python",
   "name": "python",
   "nbconvert_exporter": "python",
   "pygments_lexer": "ipython2",
   "version": "2.7.6"
  }
 },
 "nbformat": 4,
 "nbformat_minor": 5
}
